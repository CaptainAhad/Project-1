{
 "cells": [
  {
   "cell_type": "code",
   "execution_count": 150,
   "metadata": {},
   "outputs": [],
   "source": [
    "import pandas as pd\n",
    "import numpy as np\n",
    "import matplotlib.pyplot as plt\n",
    "import seaborn as sns\n",
    "\n",
    "from sklearn.model_selection import StratifiedShuffleSplit, cross_val_score, GridSearchCV, RandomizedSearchCV, cross_val_predict\n",
    "from sklearn.impute import SimpleImputer\n",
    "from sklearn.preprocessing import OneHotEncoder, StandardScaler\n",
    "from sklearn.base import BaseEstimator, TransformerMixin\n",
    "from sklearn.pipeline import Pipeline\n",
    "from sklearn.compose import ColumnTransformer\n",
    "from sklearn.linear_model import LinearRegression, SGDClassifier\n",
    "from sklearn.metrics import mean_squared_error, confusion_matrix\n",
    "from sklearn.tree import DecisionTreeRegressor\n",
    "from sklearn.ensemble import RandomForestRegressor\n"
   ]
  },
  {
   "cell_type": "markdown",
   "metadata": {},
   "source": [
    "# Data Import"
   ]
  },
  {
   "cell_type": "code",
   "execution_count": 151,
   "metadata": {},
   "outputs": [],
   "source": [
    "df = pd.read_csv(\"Project_1_Data.csv\")"
   ]
  },
  {
   "cell_type": "markdown",
   "metadata": {},
   "source": [
    "# Data Analysis & Visualization"
   ]
  },
  {
   "cell_type": "code",
   "execution_count": 152,
   "metadata": {},
   "outputs": [
    {
     "name": "stdout",
     "output_type": "stream",
     "text": [
      "<class 'pandas.core.frame.DataFrame'>\n",
      "RangeIndex: 860 entries, 0 to 859\n",
      "Data columns (total 4 columns):\n",
      " #   Column  Non-Null Count  Dtype  \n",
      "---  ------  --------------  -----  \n",
      " 0   X       860 non-null    float64\n",
      " 1   Y       860 non-null    float64\n",
      " 2   Z       860 non-null    float64\n",
      " 3   Step    860 non-null    int64  \n",
      "dtypes: float64(3), int64(1)\n",
      "memory usage: 27.0 KB\n"
     ]
    },
    {
     "data": {
      "text/html": [
       "<div>\n",
       "<style scoped>\n",
       "    .dataframe tbody tr th:only-of-type {\n",
       "        vertical-align: middle;\n",
       "    }\n",
       "\n",
       "    .dataframe tbody tr th {\n",
       "        vertical-align: top;\n",
       "    }\n",
       "\n",
       "    .dataframe thead th {\n",
       "        text-align: right;\n",
       "    }\n",
       "</style>\n",
       "<table border=\"1\" class=\"dataframe\">\n",
       "  <thead>\n",
       "    <tr style=\"text-align: right;\">\n",
       "      <th></th>\n",
       "      <th>X</th>\n",
       "      <th>Y</th>\n",
       "      <th>Z</th>\n",
       "      <th>Step</th>\n",
       "    </tr>\n",
       "  </thead>\n",
       "  <tbody>\n",
       "    <tr>\n",
       "      <th>count</th>\n",
       "      <td>860.000000</td>\n",
       "      <td>860.000000</td>\n",
       "      <td>860.000000</td>\n",
       "      <td>860.000000</td>\n",
       "    </tr>\n",
       "    <tr>\n",
       "      <th>mean</th>\n",
       "      <td>5.587116</td>\n",
       "      <td>4.845605</td>\n",
       "      <td>1.197465</td>\n",
       "      <td>7.756977</td>\n",
       "    </tr>\n",
       "    <tr>\n",
       "      <th>std</th>\n",
       "      <td>3.719067</td>\n",
       "      <td>1.142329</td>\n",
       "      <td>0.522844</td>\n",
       "      <td>2.407837</td>\n",
       "    </tr>\n",
       "    <tr>\n",
       "      <th>min</th>\n",
       "      <td>0.000000</td>\n",
       "      <td>3.062500</td>\n",
       "      <td>0.000000</td>\n",
       "      <td>1.000000</td>\n",
       "    </tr>\n",
       "    <tr>\n",
       "      <th>25%</th>\n",
       "      <td>1.562500</td>\n",
       "      <td>3.062500</td>\n",
       "      <td>0.783800</td>\n",
       "      <td>7.000000</td>\n",
       "    </tr>\n",
       "    <tr>\n",
       "      <th>50%</th>\n",
       "      <td>7.770000</td>\n",
       "      <td>5.125000</td>\n",
       "      <td>1.220000</td>\n",
       "      <td>8.000000</td>\n",
       "    </tr>\n",
       "    <tr>\n",
       "      <th>75%</th>\n",
       "      <td>8.575000</td>\n",
       "      <td>5.845000</td>\n",
       "      <td>1.616975</td>\n",
       "      <td>9.000000</td>\n",
       "    </tr>\n",
       "    <tr>\n",
       "      <th>max</th>\n",
       "      <td>9.375000</td>\n",
       "      <td>5.845000</td>\n",
       "      <td>2.350000</td>\n",
       "      <td>13.000000</td>\n",
       "    </tr>\n",
       "  </tbody>\n",
       "</table>\n",
       "</div>"
      ],
      "text/plain": [
       "                X           Y           Z        Step\n",
       "count  860.000000  860.000000  860.000000  860.000000\n",
       "mean     5.587116    4.845605    1.197465    7.756977\n",
       "std      3.719067    1.142329    0.522844    2.407837\n",
       "min      0.000000    3.062500    0.000000    1.000000\n",
       "25%      1.562500    3.062500    0.783800    7.000000\n",
       "50%      7.770000    5.125000    1.220000    8.000000\n",
       "75%      8.575000    5.845000    1.616975    9.000000\n",
       "max      9.375000    5.845000    2.350000   13.000000"
      ]
     },
     "execution_count": 152,
     "metadata": {},
     "output_type": "execute_result"
    }
   ],
   "source": [
    "df.info()\n",
    "\n",
    "df.describe()"
   ]
  },
  {
   "cell_type": "code",
   "execution_count": 153,
   "metadata": {},
   "outputs": [
    {
     "data": {
      "text/plain": [
       "Step\n",
       "9     251\n",
       "8     221\n",
       "7     148\n",
       "1      24\n",
       "2      24\n",
       "3      24\n",
       "4      24\n",
       "5      24\n",
       "6      24\n",
       "10     24\n",
       "11     24\n",
       "12     24\n",
       "13     24\n",
       "Name: count, dtype: int64"
      ]
     },
     "execution_count": 153,
     "metadata": {},
     "output_type": "execute_result"
    }
   ],
   "source": [
    "df[\"Step\"].value_counts()"
   ]
  },
  {
   "cell_type": "code",
   "execution_count": 154,
   "metadata": {},
   "outputs": [
    {
     "data": {
      "text/plain": [
       "<Axes: >"
      ]
     },
     "execution_count": 154,
     "metadata": {},
     "output_type": "execute_result"
    },
    {
     "data": {
      "image/png": "[encoded data removed]",
      "text/plain": [
       "<Figure size 640x480 with 1 Axes>"
      ]
     },
     "metadata": {},
     "output_type": "display_data"
    }
   ],
   "source": [
    "df[\"Step\"].hist()"
   ]
  },
  {
   "cell_type": "markdown",
   "metadata": {},
   "source": [
    "From the above, it can be seen that steps 7, 8, and 9 have more rows than the others. This could imply that these steps involve more movement/finer adjustments. In order to \n",
    "ensure all steps are proportionally represented, this will be used for the stratified sampling of the data"
   ]
  },
  {
   "cell_type": "code",
   "execution_count": 155,
   "metadata": {},
   "outputs": [
    {
     "data": {
      "text/plain": [
       "<Axes: >"
      ]
     },
     "execution_count": 155,
     "metadata": {},
     "output_type": "execute_result"
    },
    {
     "data": {
      "image/png": "[encoded data removed]",
      "text/plain": [
       "<Figure size 640x480 with 1 Axes>"
      ]
     },
     "metadata": {},
     "output_type": "display_data"
    }
   ],
   "source": [
    "#Create an 80/20 train/test split\n",
    "\n",
    "split = StratifiedShuffleSplit(n_splits = 1, test_size = 0.2, random_state = 42)\n",
    "\n",
    "for train_index, test_index in split.split(df, df[\"Step\"]):\n",
    "    train_set = df.loc[train_index]\n",
    "    test_set = df.loc[test_index]\n",
    "\n",
    "test_set[\"Step\"].hist()"
   ]
  },
  {
   "cell_type": "code",
   "execution_count": 156,
   "metadata": {},
   "outputs": [],
   "source": [
    "#Create a copy of the training data for exploration\n",
    "exp_set  = train_set.copy()"
   ]
  },
  {
   "cell_type": "markdown",
   "metadata": {},
   "source": [
    "I would like to first visualze the range of each axis per step, to see if there are any correlations. For example, if Step 5 involves a lot of translation in the x-axis, but\n",
    "minimal movement in the others"
   ]
  },
  {
   "cell_type": "code",
   "execution_count": 157,
   "metadata": {},
   "outputs": [
    {
     "data": {
      "text/html": [
       "<div>\n",
       "<style scoped>\n",
       "    .dataframe tbody tr th:only-of-type {\n",
       "        vertical-align: middle;\n",
       "    }\n",
       "\n",
       "    .dataframe tbody tr th {\n",
       "        vertical-align: top;\n",
       "    }\n",
       "\n",
       "    .dataframe thead th {\n",
       "        text-align: right;\n",
       "    }\n",
       "</style>\n",
       "<table border=\"1\" class=\"dataframe\">\n",
       "  <thead>\n",
       "    <tr style=\"text-align: right;\">\n",
       "      <th></th>\n",
       "      <th>Step</th>\n",
       "      <th>X_min</th>\n",
       "      <th>X_max</th>\n",
       "      <th>Y_min</th>\n",
       "      <th>Y_max</th>\n",
       "      <th>Z_min</th>\n",
       "      <th>Z_max</th>\n",
       "    </tr>\n",
       "  </thead>\n",
       "  <tbody>\n",
       "    <tr>\n",
       "      <th>0</th>\n",
       "      <td>1</td>\n",
       "      <td>9.375</td>\n",
       "      <td>9.375</td>\n",
       "      <td>3.0625</td>\n",
       "      <td>3.0625</td>\n",
       "      <td>0.50</td>\n",
       "      <td>0.72</td>\n",
       "    </tr>\n",
       "    <tr>\n",
       "      <th>1</th>\n",
       "      <td>2</td>\n",
       "      <td>9.375</td>\n",
       "      <td>9.375</td>\n",
       "      <td>3.0625</td>\n",
       "      <td>3.0625</td>\n",
       "      <td>0.74</td>\n",
       "      <td>0.97</td>\n",
       "    </tr>\n",
       "    <tr>\n",
       "      <th>2</th>\n",
       "      <td>3</td>\n",
       "      <td>9.375</td>\n",
       "      <td>9.375</td>\n",
       "      <td>3.0625</td>\n",
       "      <td>3.0625</td>\n",
       "      <td>0.98</td>\n",
       "      <td>1.21</td>\n",
       "    </tr>\n",
       "    <tr>\n",
       "      <th>3</th>\n",
       "      <td>4</td>\n",
       "      <td>9.375</td>\n",
       "      <td>9.375</td>\n",
       "      <td>3.0625</td>\n",
       "      <td>3.0625</td>\n",
       "      <td>1.22</td>\n",
       "      <td>1.45</td>\n",
       "    </tr>\n",
       "    <tr>\n",
       "      <th>4</th>\n",
       "      <td>5</td>\n",
       "      <td>9.375</td>\n",
       "      <td>9.375</td>\n",
       "      <td>3.0625</td>\n",
       "      <td>3.0625</td>\n",
       "      <td>1.46</td>\n",
       "      <td>1.69</td>\n",
       "    </tr>\n",
       "    <tr>\n",
       "      <th>5</th>\n",
       "      <td>6</td>\n",
       "      <td>9.375</td>\n",
       "      <td>9.375</td>\n",
       "      <td>3.0625</td>\n",
       "      <td>3.0625</td>\n",
       "      <td>1.71</td>\n",
       "      <td>1.92</td>\n",
       "    </tr>\n",
       "    <tr>\n",
       "      <th>6</th>\n",
       "      <td>7</td>\n",
       "      <td>8.575</td>\n",
       "      <td>8.575</td>\n",
       "      <td>5.6250</td>\n",
       "      <td>5.6250</td>\n",
       "      <td>0.36</td>\n",
       "      <td>1.82</td>\n",
       "    </tr>\n",
       "    <tr>\n",
       "      <th>7</th>\n",
       "      <td>8</td>\n",
       "      <td>6.945</td>\n",
       "      <td>9.145</td>\n",
       "      <td>5.1250</td>\n",
       "      <td>5.1250</td>\n",
       "      <td>0.35</td>\n",
       "      <td>2.00</td>\n",
       "    </tr>\n",
       "    <tr>\n",
       "      <th>8</th>\n",
       "      <td>9</td>\n",
       "      <td>0.375</td>\n",
       "      <td>2.875</td>\n",
       "      <td>5.8450</td>\n",
       "      <td>5.8450</td>\n",
       "      <td>0.00</td>\n",
       "      <td>2.35</td>\n",
       "    </tr>\n",
       "    <tr>\n",
       "      <th>9</th>\n",
       "      <td>10</td>\n",
       "      <td>0.000</td>\n",
       "      <td>0.000</td>\n",
       "      <td>3.0625</td>\n",
       "      <td>3.0625</td>\n",
       "      <td>0.98</td>\n",
       "      <td>1.21</td>\n",
       "    </tr>\n",
       "    <tr>\n",
       "      <th>10</th>\n",
       "      <td>11</td>\n",
       "      <td>0.000</td>\n",
       "      <td>0.000</td>\n",
       "      <td>3.0625</td>\n",
       "      <td>3.0625</td>\n",
       "      <td>1.22</td>\n",
       "      <td>1.44</td>\n",
       "    </tr>\n",
       "    <tr>\n",
       "      <th>11</th>\n",
       "      <td>12</td>\n",
       "      <td>0.000</td>\n",
       "      <td>0.000</td>\n",
       "      <td>3.0625</td>\n",
       "      <td>3.0625</td>\n",
       "      <td>1.46</td>\n",
       "      <td>1.69</td>\n",
       "    </tr>\n",
       "    <tr>\n",
       "      <th>12</th>\n",
       "      <td>13</td>\n",
       "      <td>0.000</td>\n",
       "      <td>0.000</td>\n",
       "      <td>3.0625</td>\n",
       "      <td>3.0625</td>\n",
       "      <td>1.70</td>\n",
       "      <td>1.93</td>\n",
       "    </tr>\n",
       "  </tbody>\n",
       "</table>\n",
       "</div>"
      ],
      "text/plain": [
       "    Step  X_min  X_max   Y_min   Y_max  Z_min  Z_max\n",
       "0      1  9.375  9.375  3.0625  3.0625   0.50   0.72\n",
       "1      2  9.375  9.375  3.0625  3.0625   0.74   0.97\n",
       "2      3  9.375  9.375  3.0625  3.0625   0.98   1.21\n",
       "3      4  9.375  9.375  3.0625  3.0625   1.22   1.45\n",
       "4      5  9.375  9.375  3.0625  3.0625   1.46   1.69\n",
       "5      6  9.375  9.375  3.0625  3.0625   1.71   1.92\n",
       "6      7  8.575  8.575  5.6250  5.6250   0.36   1.82\n",
       "7      8  6.945  9.145  5.1250  5.1250   0.35   2.00\n",
       "8      9  0.375  2.875  5.8450  5.8450   0.00   2.35\n",
       "9     10  0.000  0.000  3.0625  3.0625   0.98   1.21\n",
       "10    11  0.000  0.000  3.0625  3.0625   1.22   1.44\n",
       "11    12  0.000  0.000  3.0625  3.0625   1.46   1.69\n",
       "12    13  0.000  0.000  3.0625  3.0625   1.70   1.93"
      ]
     },
     "execution_count": 157,
     "metadata": {},
     "output_type": "execute_result"
    }
   ],
   "source": [
    "coord_range = exp_set.groupby('Step')[['X', 'Y', 'Z']].agg(\n",
    "    X_min = ('X', 'min'),\n",
    "    X_max = ('X', 'max'),\n",
    "    Y_min = ('Y', 'min'),\n",
    "    Y_max = ('Y', 'max'),\n",
    "    Z_min = ('Z', 'min'),\n",
    "    Z_max = ('Z', 'max'),\n",
    ").reset_index()\n",
    "\n",
    "\n",
    "coord_range"
   ]
  },
  {
   "cell_type": "markdown",
   "metadata": {},
   "source": [
    "# Correlation Analysis "
   ]
  },
  {
   "cell_type": "code",
   "execution_count": 158,
   "metadata": {},
   "outputs": [
    {
     "data": {
      "text/plain": [
       "Step    1.000000\n",
       "Y       0.294097\n",
       "Z       0.192925\n",
       "X      -0.749724\n",
       "Name: Step, dtype: float64"
      ]
     },
     "execution_count": 158,
     "metadata": {},
     "output_type": "execute_result"
    }
   ],
   "source": [
    "corr_matrix = exp_set.corr()\n",
    "\n",
    "corr_matrix[\"Step\"].sort_values(ascending = False)"
   ]
  },
  {
   "cell_type": "code",
   "execution_count": 159,
   "metadata": {},
   "outputs": [
    {
     "data": {
      "text/plain": [
       "<Axes: xlabel='Z', ylabel='Step'>"
      ]
     },
     "execution_count": 159,
     "metadata": {},
     "output_type": "execute_result"
    },
    {
     "data": {
      "image/png": "[encoded data removed]",
      "text/plain": [
       "<Figure size 640x480 with 1 Axes>"
      ]
     },
     "metadata": {},
     "output_type": "display_data"
    },
    {
     "data": {
      "image/png": "[encoded data removed]",
      "text/plain": [
       "<Figure size 640x480 with 1 Axes>"
      ]
     },
     "metadata": {},
     "output_type": "display_data"
    },
    {
     "data": {
      "image/png": "[encoded data removed]",
      "text/plain": [
       "<Figure size 640x480 with 1 Axes>"
      ]
     },
     "metadata": {},
     "output_type": "display_data"
    }
   ],
   "source": [
    "exp_set.plot(kind = \"scatter\", x = \"X\", y = \"Step\", alpha = 0.1)\n",
    "\n",
    "exp_set.plot(kind = \"scatter\", x = \"Y\", y = \"Step\", alpha = 0.1)\n",
    "\n",
    "exp_set.plot(kind = \"scatter\", x = \"Z\", y = \"Step\", alpha = 0.1)"
   ]
  },
  {
   "cell_type": "markdown",
   "metadata": {},
   "source": [
    "# Training Data Preparation"
   ]
  },
  {
   "cell_type": "markdown",
   "metadata": {},
   "source": [
    "Before performing any prepatory transformations of the datset, they first need to be split between observations and labels. A pipeline with a custom transformer is created in order to compare results of training with and without certain features. "
   ]
  },
  {
   "cell_type": "code",
   "execution_count": 160,
   "metadata": {},
   "outputs": [],
   "source": [
    "X_train = train_set.drop(\"Step\", axis = 1)\n",
    "\n",
    "y_train = train_set[\"Step\"].copy()"
   ]
  },
  {
   "cell_type": "markdown",
   "metadata": {},
   "source": [
    "In order to prepare the data for a training model, it first needs to be scaled, as the range of the different coordinate axes have different scales."
   ]
  },
  {
   "cell_type": "code",
   "execution_count": 161,
   "metadata": {},
   "outputs": [
    {
     "data": {
      "text/plain": [
       "array([[-1.50397952, -1.56731855,  0.78938332],\n",
       "       [-1.50397952, -1.56731855,  0.36716295],\n",
       "       [ 0.78272666,  0.24188724,  0.62145477],\n",
       "       ...,\n",
       "       [ 1.01960735, -1.56731855, -1.09141649],\n",
       "       [ 0.36818546,  0.24188724, -1.59520216],\n",
       "       [ 1.01960735, -1.56731855, -0.43889411]])"
      ]
     },
     "execution_count": 161,
     "metadata": {},
     "output_type": "execute_result"
    }
   ],
   "source": [
    "scaler = StandardScaler()\n",
    "\n",
    "scaler.fit_transform(X_train)"
   ]
  },
  {
   "cell_type": "markdown",
   "metadata": {},
   "source": [
    "# Model Training"
   ]
  },
  {
   "cell_type": "code",
   "execution_count": 162,
   "metadata": {},
   "outputs": [
    {
     "data": {
      "text/plain": [
       "{'max_iter': 100}"
      ]
     },
     "execution_count": 162,
     "metadata": {},
     "output_type": "execute_result"
    }
   ],
   "source": [
    "#Using gridsearch to train an SGDClassifier\n",
    "sdg_clf = SGDClassifier()\n",
    "\n",
    "param_grid = [\n",
    "    {'max_iter': [100, 200, 300, 1000]}\n",
    "]\n",
    "\n",
    "grid_search_SGD = GridSearchCV(sdg_clf, param_grid, cv=5, scoring='accuracy')\n",
    "\n",
    "grid_search_SGD.fit(X_train, y_train)\n",
    "\n",
    "grid_search_SGD.best_params_"
   ]
  },
  {
   "cell_type": "code",
   "execution_count": 163,
   "metadata": {},
   "outputs": [
    {
     "ename": "NameError",
     "evalue": "name 'grid_search_' is not defined",
     "output_type": "error",
     "traceback": [
      "\u001b[1;31m---------------------------------------------------------------------------\u001b[0m",
      "\u001b[1;31mNameError\u001b[0m                                 Traceback (most recent call last)",
      "Cell \u001b[1;32mIn[163], line 7\u001b[0m\n\u001b[0;32m      1\u001b[0m cross_val_score(sdg_clf, X_train, y_train, cv\u001b[38;5;241m=\u001b[39m\u001b[38;5;241m10\u001b[39m, scoring\u001b[38;5;241m=\u001b[39m\u001b[38;5;124m'\u001b[39m\u001b[38;5;124maccuracy\u001b[39m\u001b[38;5;124m'\u001b[39m)\n\u001b[0;32m      3\u001b[0m param_grid \u001b[38;5;241m=\u001b[39m [\n\u001b[0;32m      4\u001b[0m     {\u001b[38;5;124m'\u001b[39m\u001b[38;5;124mn_estimators\u001b[39m\u001b[38;5;124m'\u001b[39m: [\u001b[38;5;241m3\u001b[39m, \u001b[38;5;241m10\u001b[39m, \u001b[38;5;241m30\u001b[39m], \u001b[38;5;124m'\u001b[39m\u001b[38;5;124mmax_features\u001b[39m\u001b[38;5;124m'\u001b[39m: [\u001b[38;5;241m1\u001b[39m, \u001b[38;5;241m2\u001b[39m, \u001b[38;5;241m3\u001b[39m]}\n\u001b[0;32m      5\u001b[0m ]\n\u001b[1;32m----> 7\u001b[0m grid_search_\n",
      "\u001b[1;31mNameError\u001b[0m: name 'grid_search_' is not defined"
     ]
    }
   ],
   "source": [
    "cross_val_score(sdg_clf, X_train, y_train, cv=10, scoring='accuracy')\n",
    "\n",
    "param_grid = [\n",
    "    {'n_estimators': [3, 10, 30], 'max_features': [1, 2, 3]}\n",
    "]\n",
    "\n",
    "grid_search_"
   ]
  },
  {
   "cell_type": "code",
   "execution_count": 181,
   "metadata": {},
   "outputs": [
    {
     "ename": "TypeError",
     "evalue": "cross_val_predict() got an unexpected keyword argument 'random_state'",
     "output_type": "error",
     "traceback": [
      "\u001b[1;31m---------------------------------------------------------------------------\u001b[0m",
      "\u001b[1;31mTypeError\u001b[0m                                 Traceback (most recent call last)",
      "Cell \u001b[1;32mIn[181], line 1\u001b[0m\n\u001b[1;32m----> 1\u001b[0m y_train_pred \u001b[38;5;241m=\u001b[39m cross_val_predict(sdg_clf, X_train, y_train, cv\u001b[38;5;241m=\u001b[39m\u001b[38;5;241m5\u001b[39m, random_state\u001b[38;5;241m=\u001b[39m\u001b[38;5;241m42\u001b[39m)\n\u001b[0;32m      3\u001b[0m conf_mat \u001b[38;5;241m=\u001b[39m confusion_matrix(y_train, y_train_pred)\n\u001b[0;32m      5\u001b[0m conf_mat\n",
      "\u001b[1;31mTypeError\u001b[0m: cross_val_predict() got an unexpected keyword argument 'random_state'"
     ]
    }
   ],
   "source": [
    "y_train_pred = cross_val_predict(sdg_clf, X_train, y_train, cv=5)\n",
    "\n",
    "conf_mat = confusion_matrix(y_train, y_train_pred)\n",
    "\n",
    "conf_mat"
   ]
  },
  {
   "cell_type": "code",
   "execution_count": 140,
   "metadata": {},
   "outputs": [
    {
     "data": {
      "image/png": "[encoded data removed]",
      "text/plain": [
       "<Figure size 480x480 with 1 Axes>"
      ]
     },
     "metadata": {},
     "output_type": "display_data"
    }
   ],
   "source": [
    "plt.matshow(conf_mat, cmap=plt.cm.gray)\n",
    "plt.show()"
   ]
  },
  {
   "cell_type": "code",
   "execution_count": 141,
   "metadata": {},
   "outputs": [
    {
     "data": {
      "image/png": "[encoded data removed]",
      "text/plain": [
       "<Figure size 480x480 with 1 Axes>"
      ]
     },
     "metadata": {},
     "output_type": "display_data"
    }
   ],
   "source": [
    "row_sums = conf_mat.sum(axis = 1, keepdims=True)\n",
    "norm_conf_mat = conf_mat/row_sums\n",
    "\n",
    "np.fill_diagonal(norm_conf_mat, 0)\n",
    "\n",
    "plt.matshow(norm_conf_mat, cmap=plt.cm.gray)\n",
    "plt.show()"
   ]
  }
 ],
 "metadata": {
  "kernelspec": {
   "display_name": "base",
   "language": "python",
   "name": "python3"
  },
  "language_info": {
   "codemirror_mode": {
    "name": "ipython",
    "version": 3
   },
   "file_extension": ".py",
   "mimetype": "text/x-python",
   "name": "python",
   "nbconvert_exporter": "python",
   "pygments_lexer": "ipython3",
   "version": "3.11.7"
  }
 },
 "nbformat": 4,
 "nbformat_minor": 2
}
