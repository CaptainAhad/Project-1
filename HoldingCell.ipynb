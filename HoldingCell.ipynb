{
 "cells": [
  {
   "cell_type": "code",
   "execution_count": null,
   "metadata": {},
   "outputs": [],
   "source": [
    "coord_counts = exp_set.groupby('Step')[['X', 'Y', 'Z']].count().reset_index()\n",
    "\n",
    "melted = pd.melt(coord_counts, id_vars = 'Step', value_vars = ['X', 'Y', 'Z'], var_name = 'Coordinate', value_name = 'Count')\n",
    "\n",
    "plt.figure(figsize=(10, 6))\n",
    "sns.barplot(x = 'Step', y = 'Count', hue = 'Coordinate', data = melted)\n",
    "\n",
    "plt.show()"
   ]
  }
 ],
 "metadata": {
  "kernelspec": {
   "display_name": "Python 3",
   "language": "python",
   "name": "python3"
  },
  "language_info": {
   "name": "python",
   "version": "3.10.5"
  }
 },
 "nbformat": 4,
 "nbformat_minor": 2
}
