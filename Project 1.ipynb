{
 "cells": [
  {
   "cell_type": "code",
   "execution_count": 60,
   "metadata": {},
   "outputs": [],
   "source": [
    "import pandas as pd\n",
    "import numpy as np\n",
    "import matplotlib.pyplot as plt\n",
    "import seaborn as sns\n",
    "\n",
    "from sklearn.model_selection import StratifiedShuffleSplit, cross_val_score, GridSearchCV, RandomizedSearchCV, cross_val_predict\n",
    "from sklearn.impute import SimpleImputer\n",
    "from sklearn.preprocessing import OneHotEncoder, StandardScaler\n",
    "from sklearn.base import BaseEstimator, TransformerMixin\n",
    "from sklearn.pipeline import Pipeline\n",
    "from sklearn.compose import ColumnTransformer\n",
    "from sklearn.linear_model import LinearRegression, SGDClassifier\n",
    "from sklearn.metrics import mean_squared_error, confusion_matrix\n",
    "from sklearn.tree import DecisionTreeRegressor\n",
    "from sklearn.ensemble import RandomForestRegressor\n"
   ]
  },
  {
   "cell_type": "markdown",
   "metadata": {},
   "source": [
    "# Data Import"
   ]
  },
  {
   "cell_type": "code",
   "execution_count": 11,
   "metadata": {},
   "outputs": [],
   "source": [
    "df = pd.read_csv(\"Project_1_Data.csv\")"
   ]
  },
  {
   "cell_type": "markdown",
   "metadata": {},
   "source": [
    "# Data Analysis & Visualization"
   ]
  },
  {
   "cell_type": "code",
   "execution_count": 46,
   "metadata": {},
   "outputs": [
    {
     "name": "stdout",
     "output_type": "stream",
     "text": [
      "<class 'pandas.core.frame.DataFrame'>\n",
      "RangeIndex: 860 entries, 0 to 859\n",
      "Data columns (total 4 columns):\n",
      " #   Column  Non-Null Count  Dtype  \n",
      "---  ------  --------------  -----  \n",
      " 0   X       860 non-null    float64\n",
      " 1   Y       860 non-null    float64\n",
      " 2   Z       860 non-null    float64\n",
      " 3   Step    860 non-null    int64  \n",
      "dtypes: float64(3), int64(1)\n",
      "memory usage: 27.0 KB\n"
     ]
    },
    {
     "data": {
      "text/html": [
       "<div>\n",
       "<style scoped>\n",
       "    .dataframe tbody tr th:only-of-type {\n",
       "        vertical-align: middle;\n",
       "    }\n",
       "\n",
       "    .dataframe tbody tr th {\n",
       "        vertical-align: top;\n",
       "    }\n",
       "\n",
       "    .dataframe thead th {\n",
       "        text-align: right;\n",
       "    }\n",
       "</style>\n",
       "<table border=\"1\" class=\"dataframe\">\n",
       "  <thead>\n",
       "    <tr style=\"text-align: right;\">\n",
       "      <th></th>\n",
       "      <th>X</th>\n",
       "      <th>Y</th>\n",
       "      <th>Z</th>\n",
       "      <th>Step</th>\n",
       "    </tr>\n",
       "  </thead>\n",
       "  <tbody>\n",
       "    <tr>\n",
       "      <th>0</th>\n",
       "      <td>9.375</td>\n",
       "      <td>3.0625</td>\n",
       "      <td>0.50</td>\n",
       "      <td>1</td>\n",
       "    </tr>\n",
       "    <tr>\n",
       "      <th>1</th>\n",
       "      <td>9.375</td>\n",
       "      <td>3.0625</td>\n",
       "      <td>0.51</td>\n",
       "      <td>1</td>\n",
       "    </tr>\n",
       "    <tr>\n",
       "      <th>2</th>\n",
       "      <td>9.375</td>\n",
       "      <td>3.0625</td>\n",
       "      <td>0.52</td>\n",
       "      <td>1</td>\n",
       "    </tr>\n",
       "    <tr>\n",
       "      <th>3</th>\n",
       "      <td>9.375</td>\n",
       "      <td>3.0625</td>\n",
       "      <td>0.53</td>\n",
       "      <td>1</td>\n",
       "    </tr>\n",
       "    <tr>\n",
       "      <th>4</th>\n",
       "      <td>9.375</td>\n",
       "      <td>3.0625</td>\n",
       "      <td>0.54</td>\n",
       "      <td>1</td>\n",
       "    </tr>\n",
       "  </tbody>\n",
       "</table>\n",
       "</div>"
      ],
      "text/plain": [
       "       X       Y     Z  Step\n",
       "0  9.375  3.0625  0.50     1\n",
       "1  9.375  3.0625  0.51     1\n",
       "2  9.375  3.0625  0.52     1\n",
       "3  9.375  3.0625  0.53     1\n",
       "4  9.375  3.0625  0.54     1"
      ]
     },
     "execution_count": 46,
     "metadata": {},
     "output_type": "execute_result"
    }
   ],
   "source": [
    "df.info()\n",
    "\n",
    "df.describe()"
   ]
  },
  {
   "cell_type": "code",
   "execution_count": 16,
   "metadata": {},
   "outputs": [
    {
     "data": {
      "text/plain": [
       "Step\n",
       "9     251\n",
       "8     221\n",
       "7     148\n",
       "1      24\n",
       "2      24\n",
       "3      24\n",
       "4      24\n",
       "5      24\n",
       "6      24\n",
       "10     24\n",
       "11     24\n",
       "12     24\n",
       "13     24\n",
       "Name: count, dtype: int64"
      ]
     },
     "execution_count": 16,
     "metadata": {},
     "output_type": "execute_result"
    }
   ],
   "source": [
    "df[\"Step\"].value_counts()"
   ]
  },
  {
   "cell_type": "code",
   "execution_count": 17,
   "metadata": {},
   "outputs": [
    {
     "data": {
      "text/plain": [
       "<Axes: >"
      ]
     },
     "execution_count": 17,
     "metadata": {},
     "output_type": "execute_result"
    },
    {
     "data": {
      "image/png": "[encoded data removed]",
      "text/plain": [
       "<Figure size 640x480 with 1 Axes>"
      ]
     },
     "metadata": {},
     "output_type": "display_data"
    }
   ],
   "source": [
    "df[\"Step\"].hist()"
   ]
  },
  {
   "cell_type": "markdown",
   "metadata": {},
   "source": [
    "From the above, it can be seen that steps 7, 8, and 9 have more rows than the others. This could imply that these steps involve more movement/finer adjustments. In order to \n",
    "ensure all steps are proportionally represented, this will be used for the stratified sampling of the data, "
   ]
  },
  {
   "cell_type": "code",
   "execution_count": 15,
   "metadata": {},
   "outputs": [
    {
     "data": {
      "text/plain": [
       "<Axes: >"
      ]
     },
     "execution_count": 15,
     "metadata": {},
     "output_type": "execute_result"
    },
    {
     "data": {
      "image/png": "[encoded data removed]",
      "text/plain": [
       "<Figure size 640x480 with 1 Axes>"
      ]
     },
     "metadata": {},
     "output_type": "display_data"
    }
   ],
   "source": [
    "#Create an 80/20 train/test split\n",
    "\n",
    "split = StratifiedShuffleSplit(n_splits = 1, test_size = 0.2, random_state = 42)\n",
    "\n",
    "for train_index, test_index in split.split(df, df[\"Step\"]):\n",
    "    train_set = df.loc[train_index]\n",
    "    test_set = df.loc[test_index]\n",
    "\n",
    "test_set[\"Step\"].hist()"
   ]
  },
  {
   "cell_type": "code",
   "execution_count": 19,
   "metadata": {},
   "outputs": [],
   "source": [
    "#Create a copy of the training data for exploration\n",
    "exp_set  = train_set.copy()"
   ]
  },
  {
   "cell_type": "markdown",
   "metadata": {},
   "source": [
    "I would like to first visualze the range of each axis per step, to see if there are any correlations. For example, if Step 5 involves a lot of translation in the x-axis, but\n",
    "minimal movement in the others"
   ]
  },
  {
   "cell_type": "code",
   "execution_count": 36,
   "metadata": {},
   "outputs": [
    {
     "data": {
      "text/html": [
       "<div>\n",
       "<style scoped>\n",
       "    .dataframe tbody tr th:only-of-type {\n",
       "        vertical-align: middle;\n",
       "    }\n",
       "\n",
       "    .dataframe tbody tr th {\n",
       "        vertical-align: top;\n",
       "    }\n",
       "\n",
       "    .dataframe thead tr th {\n",
       "        text-align: left;\n",
       "    }\n",
       "\n",
       "    .dataframe thead tr:last-of-type th {\n",
       "        text-align: right;\n",
       "    }\n",
       "</style>\n",
       "<table border=\"1\" class=\"dataframe\">\n",
       "  <thead>\n",
       "    <tr>\n",
       "      <th></th>\n",
       "      <th colspan=\"2\" halign=\"left\">X</th>\n",
       "      <th colspan=\"2\" halign=\"left\">Y</th>\n",
       "      <th colspan=\"2\" halign=\"left\">Z</th>\n",
       "    </tr>\n",
       "    <tr>\n",
       "      <th></th>\n",
       "      <th>min</th>\n",
       "      <th>max</th>\n",
       "      <th>min</th>\n",
       "      <th>max</th>\n",
       "      <th>min</th>\n",
       "      <th>max</th>\n",
       "    </tr>\n",
       "    <tr>\n",
       "      <th>Step</th>\n",
       "      <th></th>\n",
       "      <th></th>\n",
       "      <th></th>\n",
       "      <th></th>\n",
       "      <th></th>\n",
       "      <th></th>\n",
       "    </tr>\n",
       "  </thead>\n",
       "  <tbody>\n",
       "    <tr>\n",
       "      <th>1</th>\n",
       "      <td>9.375</td>\n",
       "      <td>9.375</td>\n",
       "      <td>3.0625</td>\n",
       "      <td>3.0625</td>\n",
       "      <td>0.50</td>\n",
       "      <td>0.72</td>\n",
       "    </tr>\n",
       "    <tr>\n",
       "      <th>2</th>\n",
       "      <td>9.375</td>\n",
       "      <td>9.375</td>\n",
       "      <td>3.0625</td>\n",
       "      <td>3.0625</td>\n",
       "      <td>0.74</td>\n",
       "      <td>0.97</td>\n",
       "    </tr>\n",
       "    <tr>\n",
       "      <th>3</th>\n",
       "      <td>9.375</td>\n",
       "      <td>9.375</td>\n",
       "      <td>3.0625</td>\n",
       "      <td>3.0625</td>\n",
       "      <td>0.98</td>\n",
       "      <td>1.21</td>\n",
       "    </tr>\n",
       "    <tr>\n",
       "      <th>4</th>\n",
       "      <td>9.375</td>\n",
       "      <td>9.375</td>\n",
       "      <td>3.0625</td>\n",
       "      <td>3.0625</td>\n",
       "      <td>1.22</td>\n",
       "      <td>1.45</td>\n",
       "    </tr>\n",
       "    <tr>\n",
       "      <th>5</th>\n",
       "      <td>9.375</td>\n",
       "      <td>9.375</td>\n",
       "      <td>3.0625</td>\n",
       "      <td>3.0625</td>\n",
       "      <td>1.46</td>\n",
       "      <td>1.69</td>\n",
       "    </tr>\n",
       "    <tr>\n",
       "      <th>6</th>\n",
       "      <td>9.375</td>\n",
       "      <td>9.375</td>\n",
       "      <td>3.0625</td>\n",
       "      <td>3.0625</td>\n",
       "      <td>1.71</td>\n",
       "      <td>1.92</td>\n",
       "    </tr>\n",
       "    <tr>\n",
       "      <th>7</th>\n",
       "      <td>8.575</td>\n",
       "      <td>8.575</td>\n",
       "      <td>5.6250</td>\n",
       "      <td>5.6250</td>\n",
       "      <td>0.36</td>\n",
       "      <td>1.82</td>\n",
       "    </tr>\n",
       "    <tr>\n",
       "      <th>8</th>\n",
       "      <td>6.945</td>\n",
       "      <td>9.145</td>\n",
       "      <td>5.1250</td>\n",
       "      <td>5.1250</td>\n",
       "      <td>0.35</td>\n",
       "      <td>2.00</td>\n",
       "    </tr>\n",
       "    <tr>\n",
       "      <th>9</th>\n",
       "      <td>0.375</td>\n",
       "      <td>2.875</td>\n",
       "      <td>5.8450</td>\n",
       "      <td>5.8450</td>\n",
       "      <td>0.00</td>\n",
       "      <td>2.35</td>\n",
       "    </tr>\n",
       "    <tr>\n",
       "      <th>10</th>\n",
       "      <td>0.000</td>\n",
       "      <td>0.000</td>\n",
       "      <td>3.0625</td>\n",
       "      <td>3.0625</td>\n",
       "      <td>0.98</td>\n",
       "      <td>1.21</td>\n",
       "    </tr>\n",
       "    <tr>\n",
       "      <th>11</th>\n",
       "      <td>0.000</td>\n",
       "      <td>0.000</td>\n",
       "      <td>3.0625</td>\n",
       "      <td>3.0625</td>\n",
       "      <td>1.22</td>\n",
       "      <td>1.44</td>\n",
       "    </tr>\n",
       "    <tr>\n",
       "      <th>12</th>\n",
       "      <td>0.000</td>\n",
       "      <td>0.000</td>\n",
       "      <td>3.0625</td>\n",
       "      <td>3.0625</td>\n",
       "      <td>1.46</td>\n",
       "      <td>1.69</td>\n",
       "    </tr>\n",
       "    <tr>\n",
       "      <th>13</th>\n",
       "      <td>0.000</td>\n",
       "      <td>0.000</td>\n",
       "      <td>3.0625</td>\n",
       "      <td>3.0625</td>\n",
       "      <td>1.70</td>\n",
       "      <td>1.93</td>\n",
       "    </tr>\n",
       "  </tbody>\n",
       "</table>\n",
       "</div>"
      ],
      "text/plain": [
       "          X              Y             Z      \n",
       "        min    max     min     max   min   max\n",
       "Step                                          \n",
       "1     9.375  9.375  3.0625  3.0625  0.50  0.72\n",
       "2     9.375  9.375  3.0625  3.0625  0.74  0.97\n",
       "3     9.375  9.375  3.0625  3.0625  0.98  1.21\n",
       "4     9.375  9.375  3.0625  3.0625  1.22  1.45\n",
       "5     9.375  9.375  3.0625  3.0625  1.46  1.69\n",
       "6     9.375  9.375  3.0625  3.0625  1.71  1.92\n",
       "7     8.575  8.575  5.6250  5.6250  0.36  1.82\n",
       "8     6.945  9.145  5.1250  5.1250  0.35  2.00\n",
       "9     0.375  2.875  5.8450  5.8450  0.00  2.35\n",
       "10    0.000  0.000  3.0625  3.0625  0.98  1.21\n",
       "11    0.000  0.000  3.0625  3.0625  1.22  1.44\n",
       "12    0.000  0.000  3.0625  3.0625  1.46  1.69\n",
       "13    0.000  0.000  3.0625  3.0625  1.70  1.93"
      ]
     },
     "execution_count": 36,
     "metadata": {},
     "output_type": "execute_result"
    }
   ],
   "source": [
    "coord_range = exp_set.groupby('Step')[['X', 'Y', 'Z']].agg(['min', 'max'])\n",
    "\n",
    "\n",
    "coord_range"
   ]
  },
  {
   "cell_type": "markdown",
   "metadata": {},
   "source": [
    "# Correlation Analysis "
   ]
  },
  {
   "cell_type": "code",
   "execution_count": 28,
   "metadata": {},
   "outputs": [
    {
     "data": {
      "text/plain": [
       "Step    1.000000\n",
       "Y       0.294097\n",
       "Z       0.192925\n",
       "X      -0.749724\n",
       "Name: Step, dtype: float64"
      ]
     },
     "execution_count": 28,
     "metadata": {},
     "output_type": "execute_result"
    }
   ],
   "source": [
    "corr_matrix = exp_set.corr()\n",
    "\n",
    "corr_matrix[\"Step\"].sort_values(ascending = False)"
   ]
  },
  {
   "cell_type": "code",
   "execution_count": 35,
   "metadata": {},
   "outputs": [
    {
     "data": {
      "text/plain": [
       "<Axes: xlabel='Z', ylabel='Step'>"
      ]
     },
     "execution_count": 35,
     "metadata": {},
     "output_type": "execute_result"
    },
    {
     "data": {
      "image/png": "[encoded data removed]",
      "text/plain": [
       "<Figure size 640x480 with 1 Axes>"
      ]
     },
     "metadata": {},
     "output_type": "display_data"
    },
    {
     "data": {
      "image/png": "[encoded data removed]",
      "text/plain": [
       "<Figure size 640x480 with 1 Axes>"
      ]
     },
     "metadata": {},
     "output_type": "display_data"
    },
    {
     "data": {
      "image/png": "[encoded data removed]",
      "text/plain": [
       "<Figure size 640x480 with 1 Axes>"
      ]
     },
     "metadata": {},
     "output_type": "display_data"
    }
   ],
   "source": [
    "exp_set.plot(kind = \"scatter\", x = \"X\", y = \"Step\", alpha = 0.1)\n",
    "\n",
    "exp_set.plot(kind = \"scatter\", x = \"Y\", y = \"Step\", alpha = 0.1)\n",
    "\n",
    "exp_set.plot(kind = \"scatter\", x = \"Z\", y = \"Step\", alpha = 0.1)"
   ]
  },
  {
   "cell_type": "markdown",
   "metadata": {},
   "source": [
    "# Training Data Preparation"
   ]
  },
  {
   "cell_type": "markdown",
   "metadata": {},
   "source": [
    "Before performing any prepatory transformations of the datset, they first need to be split between observations and labels."
   ]
  },
  {
   "cell_type": "code",
   "execution_count": 37,
   "metadata": {},
   "outputs": [],
   "source": [
    "X_train = train_set.drop(\"Step\", axis = 1)\n",
    "\n",
    "y_train = train_set[\"Step\"].copy()"
   ]
  },
  {
   "cell_type": "markdown",
   "metadata": {},
   "source": [
    "In order to prepare the data for a training model, it first needs to be scaled, as the range of the different coordinate axes have different scales."
   ]
  },
  {
   "cell_type": "code",
   "execution_count": 38,
   "metadata": {},
   "outputs": [
    {
     "data": {
      "text/plain": [
       "array([[-1.50397952, -1.56731855,  0.78938332],\n",
       "       [-1.50397952, -1.56731855,  0.36716295],\n",
       "       [ 0.78272666,  0.24188724,  0.62145477],\n",
       "       ...,\n",
       "       [ 1.01960735, -1.56731855, -1.09141649],\n",
       "       [ 0.36818546,  0.24188724, -1.59520216],\n",
       "       [ 1.01960735, -1.56731855, -0.43889411]])"
      ]
     },
     "execution_count": 38,
     "metadata": {},
     "output_type": "execute_result"
    }
   ],
   "source": [
    "scaler = StandardScaler()\n",
    "\n",
    "scaler.fit_transform(X_train)"
   ]
  },
  {
   "cell_type": "markdown",
   "metadata": {},
   "source": [
    "# Model Training"
   ]
  },
  {
   "cell_type": "code",
   "execution_count": 51,
   "metadata": {},
   "outputs": [
    {
     "name": "stderr",
     "output_type": "stream",
     "text": [
      "c:\\Users\\ahadr\\anaconda3\\Lib\\site-packages\\sklearn\\base.py:439: UserWarning: X does not have valid feature names, but SGDClassifier was fitted with feature names\n",
      "  warnings.warn(\n"
     ]
    },
    {
     "data": {
      "text/plain": [
       "array([10], dtype=int64)"
      ]
     },
     "execution_count": 51,
     "metadata": {},
     "output_type": "execute_result"
    }
   ],
   "source": [
    "sdg_clf = SGDClassifier()\n",
    "\n",
    "sdg_clf.fit(X_train, y_train)\n",
    "\n",
    "test = np.array([0.36818546,  0.24188724, -1.59520216]).reshape(1, -1)\n",
    "\n",
    "sdg_clf.predict(test)"
   ]
  },
  {
   "cell_type": "code",
   "execution_count": 57,
   "metadata": {},
   "outputs": [
    {
     "data": {
      "text/plain": [
       "array([0.65217391, 0.65217391, 0.84057971, 0.63768116, 0.69565217,\n",
       "       0.62318841, 0.85507246, 0.73913043, 0.85294118, 0.58823529])"
      ]
     },
     "execution_count": 57,
     "metadata": {},
     "output_type": "execute_result"
    }
   ],
   "source": [
    "cross_val_score(sdg_clf, X_train, y_train, cv=10, scoring='accuracy')"
   ]
  },
  {
   "cell_type": "code",
   "execution_count": 61,
   "metadata": {},
   "outputs": [
    {
     "data": {
      "text/plain": [
       "array([[ 11,   0,   4,   4,   0,   0,   0,   0,   0,   0,   0,   0,   0],\n",
       "       [ 11,   0,   4,   4,   0,   0,   0,   0,   0,   0,   0,   0,   0],\n",
       "       [  8,   0,   4,   4,   3,   0,   0,   0,   0,   0,   0,   0,   0],\n",
       "       [  4,   0,   4,   8,   3,   0,   0,   0,   0,   0,   0,   0,   0],\n",
       "       [  1,   0,   1,   8,   7,   0,   0,   2,   0,   0,   0,   0,   0],\n",
       "       [  0,   0,   0,   8,   5,   7,   0,   0,   0,   0,   0,   0,   0],\n",
       "       [  0,   0,   0,   0,   0,   0,  71,  48,   0,   0,   0,   0,   0],\n",
       "       [  4,   0,   0,   8,   0,   0,  76,  89,   0,   0,   0,   0,   0],\n",
       "       [  0,   0,   0,   0,   0,   0,   0,   0, 201,   0,   0,   0,   0],\n",
       "       [  0,   0,   0,   0,   0,   0,   0,   0,   0,  11,   4,   4,   0],\n",
       "       [  0,   0,   0,   0,   0,   0,   0,   0,   0,   7,   5,   4,   3],\n",
       "       [  0,   0,   0,   0,   0,   0,   0,   0,   0,   0,   6,   4,   9],\n",
       "       [  0,   0,   0,   0,   0,   0,   0,   0,   0,   0,   0,   8,  11]],\n",
       "      dtype=int64)"
      ]
     },
     "execution_count": 61,
     "metadata": {},
     "output_type": "execute_result"
    }
   ],
   "source": [
    "y_train_pred = cross_val_predict(sdg_clf, X_train, y_train, cv=5)\n",
    "\n",
    "conf_mat = confusion_matrix(y_train, y_train_pred)\n",
    "\n",
    "conf_mat"
   ]
  },
  {
   "cell_type": "code",
   "execution_count": 62,
   "metadata": {},
   "outputs": [
    {
     "data": {
      "image/png": "[encoded data removed]",
      "text/plain": [
       "<Figure size 480x480 with 1 Axes>"
      ]
     },
     "metadata": {},
     "output_type": "display_data"
    }
   ],
   "source": [
    "plt.matshow(conf_mat, cmap=plt.cm.gray)\n",
    "plt.show()"
   ]
  },
  {
   "cell_type": "code",
   "execution_count": 63,
   "metadata": {},
   "outputs": [
    {
     "data": {
      "image/png": "[encoded data removed]",
      "text/plain": [
       "<Figure size 480x480 with 1 Axes>"
      ]
     },
     "metadata": {},
     "output_type": "display_data"
    }
   ],
   "source": [
    "row_sums = conf_mat.sum(axis = 1, keepdims=True)\n",
    "norm_conf_mat = conf_mat/row_sums\n",
    "\n",
    "np.fill_diagonal(norm_conf_mat, 0)\n",
    "\n",
    "plt.matshow(norm_conf_mat, cmap=plt.cm.gray)\n",
    "plt.show()"
   ]
  }
 ],
 "metadata": {
  "kernelspec": {
   "display_name": "base",
   "language": "python",
   "name": "python3"
  },
  "language_info": {
   "codemirror_mode": {
    "name": "ipython",
    "version": 3
   },
   "file_extension": ".py",
   "mimetype": "text/x-python",
   "name": "python",
   "nbconvert_exporter": "python",
   "pygments_lexer": "ipython3",
   "version": "3.11.7"
  }
 },
 "nbformat": 4,
 "nbformat_minor": 2
}
