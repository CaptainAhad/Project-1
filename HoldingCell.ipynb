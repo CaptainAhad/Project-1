{
 "cells": [
  {
   "cell_type": "code",
   "execution_count": null,
   "metadata": {},
   "outputs": [],
   "source": [
    "coord_counts = exp_set.groupby('Step')[['X', 'Y', 'Z']].count().reset_index()\n",
    "\n",
    "melted = pd.melt(coord_counts, id_vars = 'Step', value_vars = ['X', 'Y', 'Z'], var_name = 'Coordinate', value_name = 'Count')\n",
    "\n",
    "plt.figure(figsize=(10, 6))\n",
    "sns.barplot(x = 'Step', y = 'Count', hue = 'Coordinate', data = melted)\n",
    "\n",
    "plt.show()"
   ]
  },
  {
   "cell_type": "code",
   "execution_count": null,
   "metadata": {},
   "outputs": [],
   "source": [
    "row_sums = conf_mat_test_rf.sum(axis = 1, keepdims=True)\n",
    "norm_conf_mat = conf_mat_test_rf/row_sums\n",
    "sns.heatmap(norm_conf_mat, annot=True)"
   ]
  },
  {
   "cell_type": "code",
   "execution_count": null,
   "metadata": {},
   "outputs": [],
   "source": [
    "exp_set.plot(kind = \"scatter\", x = \"X\", y = \"Step\", alpha = 0.1)\n",
    "\n",
    "exp_set.plot(kind = \"scatter\", x = \"Y\", y = \"Step\", alpha = 0.1)\n",
    "\n",
    "exp_set.plot(kind = \"scatter\", x = \"Z\", y = \"Step\", alpha = 0.1)"
   ]
  }
 ],
 "metadata": {
  "kernelspec": {
   "display_name": "Python 3",
   "language": "python",
   "name": "python3"
  },
  "language_info": {
   "name": "python",
   "version": "3.10.5"
  }
 },
 "nbformat": 4,
 "nbformat_minor": 2
}
